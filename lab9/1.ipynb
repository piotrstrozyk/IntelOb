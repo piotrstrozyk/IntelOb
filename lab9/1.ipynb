{
 "cells": [
  {
   "cell_type": "code",
   "execution_count": 1,
   "metadata": {},
   "outputs": [],
   "source": [
    "import pygad\n",
    "import numpy\n",
    "import time"
   ]
  },
  {
   "cell_type": "code",
   "execution_count": 2,
   "metadata": {},
   "outputs": [],
   "source": [
    "weights = numpy.array([7, 7, 6, 2, 5, 6, 1, 3, 10, 3, 15])\n",
    "values = numpy.array([100, 300, 200, 40, 500, 70, 100, 250, 300, 280, 300])\n",
    "max_weight = 25"
   ]
  },
  {
   "cell_type": "code",
   "execution_count": null,
   "metadata": {},
   "outputs": [],
   "source": [
    "#definiujemy funkcję fitness\n",
    "def fitness_func(model, solution, solution_idx):\n",
    "    total_weight = numpy.sum(solution * weights)\n",
    "    total_value = numpy.sum(solution * values)\n",
    "    fitness = -numpy.abs(total_weight - max_weight) + total_value\n",
    "    #lub: fitness = 1.0 / (1.0 + numpy.abs(sum1-sum2))\n",
    "    return fitness\n"
   ]
  }
 ],
 "metadata": {
  "kernelspec": {
   "display_name": ".venv",
   "language": "python",
   "name": "python3"
  },
  "language_info": {
   "codemirror_mode": {
    "name": "ipython",
    "version": 3
   },
   "file_extension": ".py",
   "mimetype": "text/x-python",
   "name": "python",
   "nbconvert_exporter": "python",
   "pygments_lexer": "ipython3",
   "version": "3.12.0"
  }
 },
 "nbformat": 4,
 "nbformat_minor": 2
}
