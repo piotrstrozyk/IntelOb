{
 "cells": [
  {
   "cell_type": "code",
   "execution_count": 13,
   "metadata": {},
   "outputs": [],
   "source": [
    "def endurance(x, y, z, u, v, w): \n",
    "    return math.exp(-2*(y-math.sin(x))**2)+math.sin(z*u)+math.cos(v*w)"
   ]
  },
  {
   "cell_type": "code",
   "execution_count": 5,
   "metadata": {},
   "outputs": [
    {
     "name": "stderr",
     "output_type": "stream",
     "text": [
      "2024-06-04 19:40:49,054 - pyswarms.single.global_best - INFO - Optimize for 1000 iters with {'c1': 0.5, 'c2': 0.3, 'w': 0.9}\n",
      "pyswarms.single.global_best: 100%|██████████|1000/1000, best_cost=7.95e-43\n",
      "2024-06-04 19:40:49,562 - pyswarms.single.global_best - INFO - Optimization finished | best cost: 7.953595109976241e-43, best pos: [3.93857295e-22 8.00147450e-22]\n",
      "2024-06-04 19:40:49,566 - pyswarms.single.global_best - INFO - Optimize for 1000 iters with {'c1': 0.5, 'c2': 0.3, 'w': 0.9}\n",
      "pyswarms.single.global_best: 100%|██████████|1000/1000, best_cost=2.03\n",
      "2024-06-04 19:40:50,103 - pyswarms.single.global_best - INFO - Optimization finished | best cost: 2.0274964264953166, best pos: [1.0057975  1.00790269]\n"
     ]
    },
    {
     "name": "stdout",
     "output_type": "stream",
     "text": [
      "Best cost: 2.0274964264953166\n",
      "Best position: [1.0057975  1.00790269]\n"
     ]
    }
   ],
   "source": [
    "import pyswarms as ps \n",
    "from pyswarms.utils.functions import single_obj as fx \n",
    "\n",
    "options = {'c1': 0.5, 'c2': 0.3, 'w':0.9} \n",
    "\n",
    "optimizer = ps.single.GlobalBestPSO(n_particles=10, dimensions=2, options=options) \n",
    "\n",
    "cost, pos = optimizer.optimize(fx.sphere, iters=1000) \n",
    "\n",
    "x_max = [2, 2] \n",
    "x_min = [1, 1] \n",
    "my_bounds = (x_min, x_max)\n",
    "\n",
    "optimizer = ps.single.GlobalBestPSO(n_particles=10, dimensions=2, options=options, bounds=my_bounds)\n",
    "\n",
    "cost, pos = optimizer.optimize(fx.sphere, iters=1000)\n",
    "\n",
    "print(\"Best cost:\", cost)\n",
    "print(\"Best position:\", pos) "
   ]
  },
  {
   "cell_type": "code",
   "execution_count": 15,
   "metadata": {},
   "outputs": [
    {
     "name": "stderr",
     "output_type": "stream",
     "text": [
      "2024-06-04 19:44:57,622 - pyswarms.single.global_best - INFO - Optimize for 1000 iters with {'c1': 0.5, 'c2': 0.3, 'w': 0.9}\n",
      "pyswarms.single.global_best: 100%|██████████|1000/1000, best_cost=0.893\n",
      "2024-06-04 19:44:58,221 - pyswarms.single.global_best - INFO - Optimization finished | best cost: 0.8929203740082043, best pos: [0.04070976 0.95577843 0.52822287 0.06903976 0.86217468 0.97172223]\n"
     ]
    },
    {
     "name": "stdout",
     "output_type": "stream",
     "text": [
      "Best cost: 0.8929203740082043\n",
      "Best position: [0.04070976 0.95577843 0.52822287 0.06903976 0.86217468 0.97172223]\n"
     ]
    }
   ],
   "source": [
    "import numpy as np\n",
    "import pyswarms as ps \n",
    "\n",
    "# Ustalamy opcje dla PSO\n",
    "options = {'c1': 0.5, 'c2': 0.3, 'w':0.9} \n",
    "\n",
    "def endurance(x): \n",
    "    x = x.reshape(-1, 6)\n",
    "    return np.exp(-2*(x[:, 1]-np.sin(x[:, 0]))**2)+np.sin(x[:, 2]*x[:, 3])+np.cos(x[:, 4]*x[:, 5])\n",
    "\n",
    "# Ustalamy ograniczenia dla zmiennych\n",
    "x_max = np.ones(6)\n",
    "x_min = np.zeros(6)\n",
    "bounds = (x_min, x_max)\n",
    "\n",
    "# Tworzymy optymalizator PSO\n",
    "optimizer = ps.single.GlobalBestPSO(n_particles=10, dimensions=6, options=options, bounds=bounds)\n",
    "\n",
    "# Optymalizujemy funkcję endurance\n",
    "cost, pos = optimizer.optimize(endurance, iters=1000)\n",
    "\n",
    "print(\"Best cost:\", cost)\n",
    "print(\"Best position:\", pos)"
   ]
  },
  {
   "cell_type": "code",
   "execution_count": 33,
   "metadata": {},
   "outputs": [
    {
     "name": "stderr",
     "output_type": "stream",
     "text": [
      "2024-06-04 19:54:34,717 - pyswarms.single.global_best - INFO - Optimize for 1000 iters with {'c1': 0.5, 'c2': 0.3, 'w': 0.9}\n",
      "pyswarms.single.global_best: 100%|██████████|1000/1000, best_cost=1.02\n",
      "2024-06-04 19:54:35,268 - pyswarms.single.global_best - INFO - Optimization finished | best cost: 1.0216049358693229, best pos: [0.01359691 0.91142608 0.51634415 0.03429907 0.84065179 0.75661896]\n"
     ]
    },
    {
     "name": "stdout",
     "output_type": "stream",
     "text": [
      "Best cost: 1.0216049358693229\n",
      "Best position: [0.01359691 0.91142608 0.51634415 0.03429907 0.84065179 0.75661896]\n"
     ]
    }
   ],
   "source": [
    "import numpy as np\n",
    "import pyswarms as ps\n",
    "import math\n",
    "\n",
    "# Definicja funkcji endurance\n",
    "def endurance(x):\n",
    "    x = x.reshape(-1, 6)\n",
    "    return np.exp(-2*(x[:, 1] - np.sin(x[:, 0]))**2) + np.sin(x[:, 2] * x[:, 3]) + np.cos(x[:, 4] * x[:, 5])\n",
    "\n",
    "# Ustalamy opcje dla PSO\n",
    "options = {'c1': 0.5, 'c2': 0.3, 'w': 0.9}\n",
    "\n",
    "# Ustalamy ograniczenia dla zmiennych\n",
    "x_max = np.ones(6)\n",
    "x_min = np.zeros(6)\n",
    "bounds = (x_min, x_max)\n",
    "\n",
    "# Tworzymy optymalizator PSO\n",
    "optimizer = ps.single.GlobalBestPSO(n_particles=10, dimensions=6, options=options, bounds=bounds)\n",
    "\n",
    "# Optymalizujemy funkcję endurance\n",
    "cost, pos = optimizer.optimize(endurance, iters=1000)\n",
    "\n",
    "print(\"Best cost:\", cost)\n",
    "print(\"Best position:\", pos)\n"
   ]
  },
  {
   "cell_type": "code",
   "execution_count": 41,
   "metadata": {},
   "outputs": [
    {
     "name": "stderr",
     "output_type": "stream",
     "text": [
      "2024-06-04 19:57:22,921 - pyswarms.single.global_best - INFO - Optimize for 1000 iters with {'c1': 0.5, 'c2': 0.3, 'w': 0.9}\n",
      "pyswarms.single.global_best: 100%|██████████|1000/1000, best_cost=-2.82\n",
      "2024-06-04 19:57:23,468 - pyswarms.single.global_best - INFO - Optimization finished | best cost: -2.820326104216297, best pos: [0.55466509 0.51385447 0.9882287  0.9989582  0.32907593 0.50601423]\n"
     ]
    },
    {
     "name": "stdout",
     "output_type": "stream",
     "text": [
      "Best cost: 2.820326104216297\n",
      "Best position: [0.55466509 0.51385447 0.9882287  0.9989582  0.32907593 0.50601423]\n"
     ]
    }
   ],
   "source": [
    "import numpy as np\n",
    "import pyswarms as ps\n",
    "import math\n",
    "\n",
    "# Definicja funkcji endurance\n",
    "def endurance(x):\n",
    "    x = x.reshape(-1, 6)\n",
    "    return -1 * (np.exp(-2*(x[:, 1] - np.sin(x[:, 0]))**2) + np.sin(x[:, 2] * x[:, 3]) + np.cos(x[:, 4] * x[:, 5]))\n",
    "\n",
    "# Ustalamy opcje dla PSO\n",
    "options = {'c1': 0.5, 'c2': 0.3, 'w': 0.9}\n",
    "\n",
    "# Ustalamy ograniczenia dla zmiennych\n",
    "x_max = np.ones(6)\n",
    "x_min = np.zeros(6)\n",
    "bounds = (x_min, x_max)\n",
    "\n",
    "# Tworzymy optymalizator PSO\n",
    "optimizer = ps.single.GlobalBestPSO(n_particles=10, dimensions=6, options=options, bounds=bounds)\n",
    "\n",
    "# Optymalizujemy funkcję endurance\n",
    "cost, pos = optimizer.optimize(endurance, iters=1000)\n",
    "\n",
    "# Wypisujemy wynik - zwracamy wartość bez minusa\n",
    "print(\"Best cost:\", -cost)\n",
    "print(\"Best position:\", pos)\n"
   ]
  },
  {
   "cell_type": "code",
   "execution_count": 42,
   "metadata": {},
   "outputs": [],
   "source": [
    "from pyswarms.utils.plotters import plot_cost_history \n",
    "import matplotlib.pyplot as plt"
   ]
  },
  {
   "cell_type": "code",
   "execution_count": 43,
   "metadata": {},
   "outputs": [
    {
     "data": {
      "image/png": "[encoded data removed]",
      "text/plain": [
       "<Figure size 1000x800 with 1 Axes>"
      ]
     },
     "metadata": {},
     "output_type": "display_data"
    }
   ],
   "source": [
    "# Obtain cost history from optimizer instance\n",
    "cost_history = optimizer.cost_history\n",
    "\n",
    "# Plot!\n",
    "plot_cost_history(cost_history)\n",
    "plt.show()"
   ]
  }
 ],
 "metadata": {
  "kernelspec": {
   "display_name": ".venv",
   "language": "python",
   "name": "python3"
  },
  "language_info": {
   "codemirror_mode": {
    "name": "ipython",
    "version": 3
   },
   "file_extension": ".py",
   "mimetype": "text/x-python",
   "name": "python",
   "nbconvert_exporter": "python",
   "pygments_lexer": "ipython3",
   "version": "3.12.0"
  }
 },
 "nbformat": 4,
 "nbformat_minor": 2
}
