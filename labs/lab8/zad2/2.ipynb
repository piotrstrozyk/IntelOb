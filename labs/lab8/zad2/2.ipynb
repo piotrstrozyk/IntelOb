{
 "cells": [
  {
   "cell_type": "code",
   "execution_count": 1,
   "metadata": {},
   "outputs": [],
   "source": [
    "negative = \"\"\"free is already expensive !\n",
    "1.0\n",
    "Scored 1.0\n",
    "nothing reallly. the guy at front desk I don’t even think he speaks english …or his attitude it’s the worst …probably hates his job.\n",
    "where to start, no heat even the termiostat of my watch said 36 INSIDE! \n",
    "the bathrooms are far and disgusting. \n",
    "it seems like if you leave anything at your room it can be stolen.\n",
    "smells old and odd.\n",
    "sheets are dirty and smells like dirty balls. \n",
    "sleep? forget it..too noisy and people walking around, scary people !\"\"\"\n",
    "\n",
    "positive = \"\"\"Wonderful hotel - location is very central yet on a quiet street so you can sleep nicely, all staff members were very friendly and courteous, the level of cleanliness was exceptional. The hotel is rather new (or refurbished) with very good showers and comfortable beds. I was really pleasantly surprised as usually hotels of the same price range in NYC can be a mixed bag. Herbal teas in the lobby are of high quality. Plenty of towels in the bathroom; 2 bottles of water and soft drinks for free every day.\"\"\""
   ]
  },
  {
   "cell_type": "code",
   "execution_count": 2,
   "metadata": {},
   "outputs": [
    {
     "name": "stdout",
     "output_type": "stream",
     "text": [
      "Negative review sentiment: {'neg': 0.292, 'neu': 0.633, 'pos': 0.074, 'compound': -0.9701}\n",
      "Positive review sentiment: {'neg': 0.0, 'neu': 0.705, 'pos': 0.295, 'compound': 0.9825}\n"
     ]
    }
   ],
   "source": [
    "from nltk.sentiment.vader import SentimentIntensityAnalyzer\n",
    "\n",
    "# Initialize the Vader sentiment intensity analyzer\n",
    "sia = SentimentIntensityAnalyzer()\n",
    "\n",
    "# Analyze the sentiment of the negative review\n",
    "negative_sentiment = sia.polarity_scores(negative)\n",
    "\n",
    "# Analyze the sentiment of the positive review\n",
    "positive_sentiment = sia.polarity_scores(positive)\n",
    "\n",
    "# Print the sentiment scores\n",
    "print(\"Negative review sentiment:\", negative_sentiment)\n",
    "print(\"Positive review sentiment:\", positive_sentiment)"
   ]
  },
  {
   "cell_type": "code",
   "execution_count": 11,
   "metadata": {},
   "outputs": [
    {
     "name": "stdout",
     "output_type": "stream",
     "text": [
      "Collecting emoji==0.6.0\n",
      "  Downloading emoji-0.6.0.tar.gz (51 kB)\n",
      "     ---------------------------------------- 0.0/51.0 kB ? eta -:--:--\n",
      "     --------------- ---------------------- 20.5/51.0 kB 682.7 kB/s eta 0:00:01\n",
      "     -------------------------------------- 51.0/51.0 kB 657.5 kB/s eta 0:00:00\n",
      "  Preparing metadata (setup.py): started\n",
      "  Preparing metadata (setup.py): finished with status 'done'\n",
      "Building wheels for collected packages: emoji\n",
      "  Building wheel for emoji (setup.py): started\n",
      "  Building wheel for emoji (setup.py): finished with status 'done'\n",
      "  Created wheel for emoji: filename=emoji-0.6.0-py3-none-any.whl size=49743 sha256=2d135eb4195eca03c253ac6dc349f16ddb067bd33d5aa899fe33bcba842670e4\n",
      "  Stored in directory: c:\\users\\piotr\\appdata\\local\\pip\\cache\\wheels\\0d\\bf\\a2\\536017b4a6232aef0fb92831af35facd6590c0af0f3983f63b\n",
      "Successfully built emoji\n",
      "Installing collected packages: emoji\n",
      "  Attempting uninstall: emoji\n",
      "    Found existing installation: emoji 2.11.1\n",
      "    Uninstalling emoji-2.11.1:\n",
      "      Successfully uninstalled emoji-2.11.1\n",
      "Successfully installed emoji-0.6.0\n",
      "Note: you may need to restart the kernel to use updated packages.\n"
     ]
    }
   ],
   "source": [
    "#%pip install text2emotion\n",
    "#%pip install emoji==0.6.0"
   ]
  },
  {
   "cell_type": "code",
   "execution_count": 4,
   "metadata": {},
   "outputs": [
    {
     "name": "stdout",
     "output_type": "stream",
     "text": [
      "Negative review emotion: {'Happy': 0.06, 'Angry': 0.24, 'Surprise': 0.12, 'Sad': 0.18, 'Fear': 0.41}\n",
      "Positive review emotion: {'Happy': 0.36, 'Angry': 0.0, 'Surprise': 0.27, 'Sad': 0.27, 'Fear': 0.09}\n"
     ]
    }
   ],
   "source": [
    "import text2emotion as te\n",
    "\n",
    "# Get the emotion of the negative review\n",
    "negative_emotion = te.get_emotion(negative)\n",
    "\n",
    "# Get the emotion of the positive review\n",
    "positive_emotion = te.get_emotion(positive)\n",
    "\n",
    "# Print the emotion scores\n",
    "print(\"Negative review emotion:\", negative_emotion)\n",
    "print(\"Positive review emotion:\", positive_emotion)"
   ]
  },
  {
   "cell_type": "code",
   "execution_count": 6,
   "metadata": {},
   "outputs": [
    {
     "name": "stderr",
     "output_type": "stream",
     "text": [
      "No model was supplied, defaulted to distilbert/distilbert-base-uncased-finetuned-sst-2-english and revision af0f99b (https://huggingface.co/distilbert/distilbert-base-uncased-finetuned-sst-2-english).\n",
      "Using a pipeline without specifying a model name and revision in production is not recommended.\n",
      "c:\\Users\\Piotr\\Desktop\\School\\IntelOb\\.venv\\Lib\\site-packages\\huggingface_hub\\file_download.py:1132: FutureWarning: `resume_download` is deprecated and will be removed in version 1.0.0. Downloads always resume when possible. If you want to force a new download, use `force_download=True`.\n",
      "  warnings.warn(\n"
     ]
    },
    {
     "name": "stdout",
     "output_type": "stream",
     "text": [
      "Negative review sentiment: [{'label': 'NEGATIVE', 'score': 0.9997732043266296}]\n",
      "Positive review sentiment: [{'label': 'POSITIVE', 'score': 0.9997187256813049}]\n"
     ]
    }
   ],
   "source": [
    "from transformers import pipeline\n",
    "\n",
    "# Initialize the sentiment analysis pipeline\n",
    "nlp = pipeline(\"sentiment-analysis\")\n",
    "\n",
    "# Analyze the sentiment of the negative review\n",
    "negative_sentiment = nlp(negative)\n",
    "\n",
    "# Analyze the sentiment of the positive review\n",
    "positive_sentiment = nlp(positive)\n",
    "\n",
    "# Print the sentiment scores\n",
    "print(\"Negative review sentiment:\", negative_sentiment)\n",
    "print(\"Positive review sentiment:\", positive_sentiment)\n",
    "\n",
    "#Wynik 0.9997732043266296 dla negatywnej recenzji oznacza, że model jest prawie pewny (99.977%), \n",
    "#że recenzja jest negatywna. Podobnie, wynik 0.9997187256813049 dla pozytywnej recenzji oznacza, \n",
    "#że model jest prawie pewny (99.972%), że recenzja jest pozytywna."
   ]
  }
 ],
 "metadata": {
  "kernelspec": {
   "display_name": ".venv",
   "language": "python",
   "name": "python3"
  },
  "language_info": {
   "codemirror_mode": {
    "name": "ipython",
    "version": 3
   },
   "file_extension": ".py",
   "mimetype": "text/x-python",
   "name": "python",
   "nbconvert_exporter": "python",
   "pygments_lexer": "ipython3",
   "version": "3.12.0"
  }
 },
 "nbformat": 4,
 "nbformat_minor": 2
}
