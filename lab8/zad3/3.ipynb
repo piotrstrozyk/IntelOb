{
 "cells": [
  {
   "cell_type": "code",
   "execution_count": 2,
   "metadata": {},
   "outputs": [
    {
     "name": "stdout",
     "output_type": "stream",
     "text": [
      "Collecting praw\n",
      "  Downloading praw-7.7.1-py3-none-any.whl.metadata (9.8 kB)\n",
      "Collecting prawcore<3,>=2.1 (from praw)\n",
      "  Downloading prawcore-2.4.0-py3-none-any.whl.metadata (5.0 kB)\n",
      "Collecting update-checker>=0.18 (from praw)\n",
      "  Downloading update_checker-0.18.0-py3-none-any.whl.metadata (2.3 kB)\n",
      "Collecting websocket-client>=0.54.0 (from praw)\n",
      "  Downloading websocket_client-1.8.0-py3-none-any.whl.metadata (8.0 kB)\n",
      "Requirement already satisfied: requests<3.0,>=2.6.0 in c:\\users\\piotr\\desktop\\school\\intelob\\.venv\\lib\\site-packages (from prawcore<3,>=2.1->praw) (2.31.0)\n",
      "Requirement already satisfied: charset-normalizer<4,>=2 in c:\\users\\piotr\\desktop\\school\\intelob\\.venv\\lib\\site-packages (from requests<3.0,>=2.6.0->prawcore<3,>=2.1->praw) (3.3.2)\n",
      "Requirement already satisfied: idna<4,>=2.5 in c:\\users\\piotr\\desktop\\school\\intelob\\.venv\\lib\\site-packages (from requests<3.0,>=2.6.0->prawcore<3,>=2.1->praw) (3.7)\n",
      "Requirement already satisfied: urllib3<3,>=1.21.1 in c:\\users\\piotr\\desktop\\school\\intelob\\.venv\\lib\\site-packages (from requests<3.0,>=2.6.0->prawcore<3,>=2.1->praw) (2.2.1)\n",
      "Requirement already satisfied: certifi>=2017.4.17 in c:\\users\\piotr\\desktop\\school\\intelob\\.venv\\lib\\site-packages (from requests<3.0,>=2.6.0->prawcore<3,>=2.1->praw) (2024.2.2)\n",
      "Downloading praw-7.7.1-py3-none-any.whl (191 kB)\n",
      "   ---------------------------------------- 0.0/191.0 kB ? eta -:--:--\n",
      "   ---------------------------------------- 0.0/191.0 kB ? eta -:--:--\n",
      "   ------------ --------------------------- 61.4/191.0 kB 3.2 MB/s eta 0:00:01\n",
      "   ------------------- -------------------- 92.2/191.0 kB 1.1 MB/s eta 0:00:01\n",
      "   ------------------------- -------------- 122.9/191.0 kB 1.0 MB/s eta 0:00:01\n",
      "   ---------------------------------- --- 174.1/191.0 kB 952.6 kB/s eta 0:00:01\n",
      "   -------------------------------------- 191.0/191.0 kB 961.5 kB/s eta 0:00:00\n",
      "Downloading prawcore-2.4.0-py3-none-any.whl (17 kB)\n",
      "Downloading update_checker-0.18.0-py3-none-any.whl (7.0 kB)\n",
      "Downloading websocket_client-1.8.0-py3-none-any.whl (58 kB)\n",
      "   ---------------------------------------- 0.0/58.8 kB ? eta -:--:--\n",
      "   --------------------------- ------------ 41.0/58.8 kB 960.0 kB/s eta 0:00:01\n",
      "   ---------------------------------------- 58.8/58.8 kB 1.0 MB/s eta 0:00:00\n",
      "Installing collected packages: websocket-client, update-checker, prawcore, praw\n",
      "Successfully installed praw-7.7.1 prawcore-2.4.0 update-checker-0.18.0 websocket-client-1.8.0\n",
      "Note: you may need to restart the kernel to use updated packages.\n"
     ]
    }
   ],
   "source": [
    "%pip install praw"
   ]
  },
  {
   "cell_type": "code",
   "execution_count": 16,
   "metadata": {},
   "outputs": [],
   "source": [
    "import praw\n",
    "import pandas as pd\n",
    "\n",
    "# Utwórz instancję Reddit\n",
    "reddit = praw.Reddit(\n",
    "    client_id=\"ZZssu-FWrOdlB_9pE1vpcw\",     # Twoje client_id\n",
    "    client_secret=\"iQoM3wC9gXtJo9CrjMi7pU_bnvaolg\",  # Twoje client_secret\n",
    "    user_agent=\"Zad3\"    # Dowolny ciąg znaków\n",
    ")\n",
    "\n",
    "# Wybierz subreddit\n",
    "subreddit = reddit.subreddit(\"gdansk\")\n",
    "\n",
    "# Pobierz 100 najnowszych postów\n",
    "new_posts = subreddit.new(limit=100)\n",
    "\n",
    "# Zapisz posty do listy\n",
    "posts = []\n",
    "for post in new_posts:\n",
    "    posts.append([post.title, post.score, post.id, post.subreddit, post.url, post.num_comments, post.selftext, post.created])\n",
    "\n",
    "# Utwórz DataFrame\n",
    "posts = pd.DataFrame(posts,columns=['title', 'score', 'id', 'subreddit', 'url', 'num_comments', 'body', 'created'])\n",
    "\n",
    "# Zapisz DataFrame do pliku CSV\n",
    "posts.to_csv('posts.csv', sep=',', index=False)"
   ]
  }
 ],
 "metadata": {
  "kernelspec": {
   "display_name": ".venv",
   "language": "python",
   "name": "python3"
  },
  "language_info": {
   "codemirror_mode": {
    "name": "ipython",
    "version": 3
   },
   "file_extension": ".py",
   "mimetype": "text/x-python",
   "name": "python",
   "nbconvert_exporter": "python",
   "pygments_lexer": "ipython3",
   "version": "3.12.0"
  }
 },
 "nbformat": 4,
 "nbformat_minor": 2
}
